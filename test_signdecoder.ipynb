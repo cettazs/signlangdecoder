{
 "cells": [
  {
   "cell_type": "markdown",
   "metadata": {},
   "source": [
    "# Tugas Besar TF4012 Pengukuran Berbasis Citra\n",
    "### Real-Time Data Testing\n",
    "\n",
    "**Nama**: Febricetta Zahraketzia Sarwono </br>\n",
    "**NIM**: 13319080"
   ]
  },
  {
   "cell_type": "code",
   "execution_count": 1,
   "metadata": {},
   "outputs": [
    {
     "name": "stdout",
     "output_type": "stream",
     "text": [
      "Model: \"sequential\"\n",
      "_________________________________________________________________\n",
      "Layer (type)                 Output Shape              Param #   \n",
      "=================================================================\n",
      "resnet50 (Functional)        (None, 2048)              23587712  \n",
      "_________________________________________________________________\n",
      "flatten (Flatten)            (None, 2048)              0         \n",
      "_________________________________________________________________\n",
      "dense (Dense)                (None, 512)               1049088   \n",
      "_________________________________________________________________\n",
      "dropout (Dropout)            (None, 512)               0         \n",
      "_________________________________________________________________\n",
      "dense_1 (Dense)              (None, 5)                 2565      \n",
      "=================================================================\n",
      "Total params: 24,639,365\n",
      "Trainable params: 1,051,653\n",
      "Non-trainable params: 23,587,712\n",
      "_________________________________________________________________\n"
     ]
    }
   ],
   "source": [
    "# import library\n",
    "import tensorflow as tf\n",
    "from tensorflow.keras.models import load_model\n",
    "import numpy as np\n",
    "\n",
    "# load trained model\n",
    "savedModel=load_model('signdecoderv2.h5')\n",
    "savedModel.summary()"
   ]
  },
  {
   "cell_type": "code",
   "execution_count": 2,
   "metadata": {},
   "outputs": [],
   "source": [
    "# image size\n",
    "batch_size = 128\n",
    "img_height = 299\n",
    "img_width = 299"
   ]
  },
  {
   "cell_type": "code",
   "execution_count": 3,
   "metadata": {},
   "outputs": [],
   "source": [
    "# testing function\n",
    "def sign_predict(model,frame):\n",
    "    img = tf.image.resize(frame,[img_height,img_width])\n",
    "    img = tf.image.flip_left_right(img)\n",
    "    img_array = tf.keras.utils.img_to_array(img)\n",
    "    img_array = tf.expand_dims(img_array, 0) # Create a batch\n",
    "    predictions = model.predict(img_array)\n",
    "    score = tf.nn.softmax(predictions[0])\n",
    "    perc = 100*score\n",
    "    return predictions, perc"
   ]
  },
  {
   "cell_type": "code",
   "execution_count": 4,
   "metadata": {},
   "outputs": [],
   "source": [
    "# real-time data testing\n",
    "import cv2 \n",
    "import numpy as np\n",
    "\n",
    "# Setup capture\n",
    "cap = cv2.VideoCapture(0)\n",
    "\n",
    "while True: \n",
    "    ret, frame = cap.read()\n",
    "\n",
    "    # ROI\n",
    "    x1 = 20\n",
    "    y1 = 100\n",
    "\n",
    "    x2 = 270\n",
    "    y2 = 375\n",
    "\n",
    "    # Testing Area\n",
    "    cv2.rectangle(frame, (x1,y1), (x2,y2), (255,0,0), 2)\n",
    "    cv2.putText(frame, 'Put your right hand inside the box', (x1,y1-15), cv2.FONT_HERSHEY_SIMPLEX, 0.4, (255, 0, 0), 1, cv2.LINE_AA)\n",
    "\n",
    "    roi = frame[y1:y2, x1:x2]\n",
    "\n",
    "    pred, perc = sign_predict(savedModel,roi)\n",
    "\n",
    "    classified = np.argmax(pred)\n",
    "    if classified == 0:\n",
    "        hasil = 'A'\n",
    "    elif classified == 1:\n",
    "        hasil = 'C'\n",
    "    elif classified == 2:\n",
    "        hasil = 'I'\n",
    "    elif classified == 3:\n",
    "        hasil = 'R'\n",
    "    elif classified == 4:\n",
    "        hasil = 'T'\n",
    "\n",
    "    # prediction\n",
    "    cv2.rectangle(frame, (0,0), (640, 40), (245, 117, 16), -1)\n",
    "    cv2.putText(frame, hasil, (320,30), cv2.FONT_HERSHEY_SIMPLEX, 1, (255, 255, 255), 2, cv2.LINE_AA)\n",
    "\n",
    "    cv2.imshow('Sign Language Decoder (SIBI)', frame)\n",
    "    \n",
    "    if cv2.waitKey(1) & 0xFF == ord('q'):\n",
    "        cap.release()\n",
    "        cv2.destroyAllWindows()\n",
    "        break"
   ]
  }
 ],
 "metadata": {
  "interpreter": {
   "hash": "7def05aa80804aa2f03023ceebe6e666ae4abab076b1d5d3d14551d829cfea2a"
  },
  "kernelspec": {
   "display_name": "Python 3.9.7 64-bit",
   "language": "python",
   "name": "python3"
  },
  "language_info": {
   "codemirror_mode": {
    "name": "ipython",
    "version": 3
   },
   "file_extension": ".py",
   "mimetype": "text/x-python",
   "name": "python",
   "nbconvert_exporter": "python",
   "pygments_lexer": "ipython3",
   "version": "3.9.7"
  },
  "orig_nbformat": 4
 },
 "nbformat": 4,
 "nbformat_minor": 2
}
