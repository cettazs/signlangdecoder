{
 "cells": [
  {
   "cell_type": "markdown",
   "metadata": {},
   "source": [
    "# Tugas Besar TF4012 Pengukuran Berbasis Citra\n",
    "### Model Training\n",
    "\n",
    "**Nama**: Febricetta Zahraketzia Sarwono </br>\n",
    "**NIM**: 13319080"
   ]
  },
  {
   "cell_type": "code",
   "execution_count": 1,
   "metadata": {},
   "outputs": [],
   "source": [
    "# import library\n",
    "import matplotlib.pyplot as plt\n",
    "import numpy as np\n",
    "import os\n",
    "import PIL\n",
    "import tensorflow as tf\n",
    "\n",
    "from tensorflow import keras\n",
    "from tensorflow.keras import layers\n",
    "from tensorflow.keras.models import Sequential"
   ]
  },
  {
   "cell_type": "code",
   "execution_count": 2,
   "metadata": {},
   "outputs": [],
   "source": [
    "# listing dataset\n",
    "A = list(('ds/A/*'))\n",
    "C = list(('ds/C/*'))\n",
    "I = list(('ds/I/*'))\n",
    "T = list(('ds/T/*'))\n",
    "R = list(('ds/R/*'))"
   ]
  },
  {
   "cell_type": "code",
   "execution_count": 3,
   "metadata": {},
   "outputs": [],
   "source": [
    "# image size\n",
    "batch_size = 128\n",
    "img_height = 299\n",
    "img_width = 299"
   ]
  },
  {
   "cell_type": "code",
   "execution_count": 4,
   "metadata": {},
   "outputs": [],
   "source": [
    "# file checking\n",
    "from pathlib import Path\n",
    "import imghdr\n",
    "image_extensions = [\".jpg\"]  # add there all your images file extensions\n",
    "\n",
    "img_type_accepted_by_tf = [\"bmp\", \"gif\", \"jpeg\", \"png\"]\n",
    "for filepath in Path('ds').rglob(\"*\"):\n",
    "    if filepath.suffix.lower() in image_extensions:\n",
    "        img_type = imghdr.what(filepath)\n",
    "        if img_type is None:\n",
    "            print(f\"{filepath} is not an image\")\n",
    "        elif img_type not in img_type_accepted_by_tf:\n",
    "            print(f\"{filepath} is a {img_type}, not accepted by TensorFlow\")"
   ]
  },
  {
   "cell_type": "code",
   "execution_count": 5,
   "metadata": {},
   "outputs": [
    {
     "name": "stdout",
     "output_type": "stream",
     "text": [
      "Found 2500 files belonging to 5 classes.\n",
      "Using 2000 files for training.\n"
     ]
    }
   ],
   "source": [
    "# training files\n",
    "data = 'ds'\n",
    "train_ds = tf.keras.utils.image_dataset_from_directory(\n",
    "  data,\n",
    "  validation_split=0.2,\n",
    "  subset=\"training\",\n",
    "  seed=123,\n",
    "  image_size=(img_height, img_width),\n",
    "  shuffle=True,\n",
    "  batch_size=batch_size)"
   ]
  },
  {
   "cell_type": "code",
   "execution_count": 6,
   "metadata": {},
   "outputs": [
    {
     "name": "stdout",
     "output_type": "stream",
     "text": [
      "Found 2500 files belonging to 5 classes.\n",
      "Using 500 files for validation.\n"
     ]
    }
   ],
   "source": [
    "# validation files\n",
    "val_ds = tf.keras.utils.image_dataset_from_directory(\n",
    "  data,\n",
    "  validation_split=0.2,\n",
    "  subset=\"validation\",\n",
    "  seed=123,\n",
    "  image_size=(img_height, img_width),\n",
    "  shuffle=True,\n",
    "  batch_size=batch_size)"
   ]
  },
  {
   "cell_type": "code",
   "execution_count": 7,
   "metadata": {},
   "outputs": [
    {
     "name": "stdout",
     "output_type": "stream",
     "text": [
      "['A', 'C', 'I', 'R', 'T']\n"
     ]
    }
   ],
   "source": [
    "# classes\n",
    "class_names = train_ds.class_names\n",
    "print(class_names)"
   ]
  },
  {
   "cell_type": "code",
   "execution_count": 9,
   "metadata": {},
   "outputs": [
    {
     "name": "stdout",
     "output_type": "stream",
     "text": [
      "(128, 299, 299, 3)\n",
      "(128,)\n"
     ]
    }
   ],
   "source": [
    "# image and label batch shape\n",
    "for image_batch, labels_batch in train_ds:\n",
    "  print(image_batch.shape)\n",
    "  print(labels_batch.shape)\n",
    "  break"
   ]
  },
  {
   "cell_type": "code",
   "execution_count": 10,
   "metadata": {},
   "outputs": [
    {
     "name": "stdout",
     "output_type": "stream",
     "text": [
      "0.0 1.0\n"
     ]
    }
   ],
   "source": [
    "# autotune and normalizaton\n",
    "AUTOTUNE = tf.data.AUTOTUNE\n",
    "\n",
    "train_ds = train_ds.cache().shuffle(1000).prefetch(buffer_size=AUTOTUNE)\n",
    "val_ds = val_ds.cache().prefetch(buffer_size=AUTOTUNE)\n",
    "normalization_layer = layers.Rescaling(1./255)\n",
    "normalized_ds = train_ds.map(lambda x, y: (normalization_layer(x), y))\n",
    "image_batch, labels_batch = next(iter(normalized_ds))\n",
    "first_image = image_batch[0]\n",
    "# Notice the pixel values are now in `[0,1]`.\n",
    "print(np.min(first_image), np.max(first_image)) "
   ]
  },
  {
   "cell_type": "code",
   "execution_count": 11,
   "metadata": {},
   "outputs": [],
   "source": [
    "# ResNet50 pretrained model\n",
    "from keras.layers.convolutional import Conv2D, MaxPooling2D\n",
    "from keras.models import Sequential\n",
    "from keras.layers import Dense, Activation, Flatten, Dropout\n",
    "\n",
    "model = Sequential()\n",
    "pretrained_model = tf.keras.applications.ResNet50(\n",
    "    include_top=False,\n",
    "    weights=\"imagenet\",\n",
    "    input_tensor=None,\n",
    "    input_shape=(img_width, img_height, 3),\n",
    "    pooling='avg',\n",
    "    classes=5,\n",
    ")\n",
    "\n",
    "for layer in pretrained_model.layers:\n",
    "  layer.trainable = False"
   ]
  },
  {
   "cell_type": "code",
   "execution_count": 12,
   "metadata": {},
   "outputs": [],
   "source": [
    "# additional model layer\n",
    "model.add(pretrained_model)\n",
    "model.add(Flatten())\n",
    "model.add(Dense(512, activation='relu'))\n",
    "model.add(Dropout(0.2))\n",
    "model.add(Dense(5, activation='softmax'))"
   ]
  },
  {
   "cell_type": "code",
   "execution_count": 13,
   "metadata": {},
   "outputs": [
    {
     "name": "stdout",
     "output_type": "stream",
     "text": [
      "Model: \"sequential\"\n",
      "_________________________________________________________________\n",
      "Layer (type)                 Output Shape              Param #   \n",
      "=================================================================\n",
      "resnet50 (Functional)        (None, 2048)              23587712  \n",
      "_________________________________________________________________\n",
      "flatten (Flatten)            (None, 2048)              0         \n",
      "_________________________________________________________________\n",
      "dense (Dense)                (None, 512)               1049088   \n",
      "_________________________________________________________________\n",
      "dropout (Dropout)            (None, 512)               0         \n",
      "_________________________________________________________________\n",
      "dense_1 (Dense)              (None, 5)                 2565      \n",
      "=================================================================\n",
      "Total params: 24,639,365\n",
      "Trainable params: 1,051,653\n",
      "Non-trainable params: 23,587,712\n",
      "_________________________________________________________________\n"
     ]
    }
   ],
   "source": [
    "# model summary\n",
    "model.summary()"
   ]
  },
  {
   "cell_type": "code",
   "execution_count": 14,
   "metadata": {},
   "outputs": [],
   "source": [
    "# compile model\n",
    "model.compile(optimizer='SGD',\n",
    "              loss=tf.keras.losses.SparseCategoricalCrossentropy(from_logits=True),\n",
    "              metrics=['accuracy'])"
   ]
  },
  {
   "cell_type": "code",
   "execution_count": 15,
   "metadata": {},
   "outputs": [
    {
     "name": "stdout",
     "output_type": "stream",
     "text": [
      "Epoch 1/15\n"
     ]
    },
    {
     "name": "stderr",
     "output_type": "stream",
     "text": [
      "c:\\Users\\cetta sarwono\\AppData\\Local\\Programs\\Python\\Python39\\lib\\site-packages\\keras\\backend.py:4906: UserWarning: \"`sparse_categorical_crossentropy` received `from_logits=True`, but the `output` argument was produced by a sigmoid or softmax activation and thus does not represent logits. Was this intended?\"\n",
      "  warnings.warn(\n"
     ]
    },
    {
     "name": "stdout",
     "output_type": "stream",
     "text": [
      "16/16 [==============================] - 607s 38s/step - loss: 1.2207 - accuracy: 0.5930 - val_loss: 0.7189 - val_accuracy: 0.8320\n",
      "Epoch 2/15\n",
      "16/16 [==============================] - 550s 34s/step - loss: 0.6012 - accuracy: 0.8765 - val_loss: 0.4167 - val_accuracy: 0.9840\n",
      "Epoch 3/15\n",
      "16/16 [==============================] - 572s 36s/step - loss: 0.3902 - accuracy: 0.9590 - val_loss: 0.2892 - val_accuracy: 0.9920\n",
      "Epoch 4/15\n",
      "16/16 [==============================] - 555s 35s/step - loss: 0.2886 - accuracy: 0.9760 - val_loss: 0.2171 - val_accuracy: 1.0000\n",
      "Epoch 5/15\n",
      "16/16 [==============================] - 594s 37s/step - loss: 0.2237 - accuracy: 0.9870 - val_loss: 0.1795 - val_accuracy: 0.9920\n",
      "Epoch 6/15\n",
      "16/16 [==============================] - 499s 32s/step - loss: 0.1779 - accuracy: 0.9930 - val_loss: 0.1406 - val_accuracy: 1.0000\n",
      "Epoch 7/15\n",
      "16/16 [==============================] - 550s 34s/step - loss: 0.1507 - accuracy: 0.9955 - val_loss: 0.1224 - val_accuracy: 1.0000\n",
      "Epoch 8/15\n",
      "16/16 [==============================] - 502s 31s/step - loss: 0.1296 - accuracy: 0.9950 - val_loss: 0.1033 - val_accuracy: 1.0000\n",
      "Epoch 9/15\n",
      "16/16 [==============================] - 535s 34s/step - loss: 0.1106 - accuracy: 0.9985 - val_loss: 0.0904 - val_accuracy: 1.0000\n",
      "Epoch 10/15\n",
      "16/16 [==============================] - 507s 32s/step - loss: 0.0937 - accuracy: 0.9985 - val_loss: 0.0795 - val_accuracy: 1.0000\n",
      "Epoch 11/15\n",
      "16/16 [==============================] - 563s 36s/step - loss: 0.0872 - accuracy: 0.9990 - val_loss: 0.0721 - val_accuracy: 1.0000\n",
      "Epoch 12/15\n",
      "16/16 [==============================] - 510s 32s/step - loss: 0.0809 - accuracy: 0.9975 - val_loss: 0.0651 - val_accuracy: 1.0000\n",
      "Epoch 13/15\n",
      "16/16 [==============================] - 519s 34s/step - loss: 0.0722 - accuracy: 0.9990 - val_loss: 0.0592 - val_accuracy: 1.0000\n",
      "Epoch 14/15\n",
      "16/16 [==============================] - 467s 30s/step - loss: 0.0649 - accuracy: 0.9995 - val_loss: 0.0544 - val_accuracy: 1.0000\n",
      "Epoch 15/15\n",
      "16/16 [==============================] - 523s 33s/step - loss: 0.0615 - accuracy: 0.9995 - val_loss: 0.0510 - val_accuracy: 1.0000\n"
     ]
    }
   ],
   "source": [
    "# model fitting\n",
    "epochs=15\n",
    "history = model.fit(\n",
    "  train_ds,\n",
    "  validation_data=val_ds,\n",
    "  epochs=epochs,\n",
    "  shuffle=True,\n",
    ")"
   ]
  },
  {
   "cell_type": "code",
   "execution_count": 16,
   "metadata": {},
   "outputs": [
    {
     "data": {
      "image/png": "[encoded data removed]",
      "text/plain": [
       "<Figure size 576x576 with 2 Axes>"
      ]
     },
     "metadata": {
      "needs_background": "light"
     },
     "output_type": "display_data"
    }
   ],
   "source": [
    "# accuracy and loss training and validation plot\n",
    "acc = history.history['accuracy']\n",
    "val_acc = history.history['val_accuracy']\n",
    "\n",
    "loss = history.history['loss']\n",
    "val_loss = history.history['val_loss']\n",
    "\n",
    "epochs_range = range(epochs)\n",
    "\n",
    "plt.figure(figsize=(8, 8))\n",
    "plt.subplot(1, 2, 1)\n",
    "plt.plot(epochs_range, acc, label='Training Accuracy')\n",
    "plt.plot(epochs_range, val_acc, label='Validation Accuracy')\n",
    "plt.legend(loc='lower right')\n",
    "plt.title('Training and Validation Accuracy')\n",
    "\n",
    "plt.subplot(1, 2, 2)\n",
    "plt.plot(epochs_range, loss, label='Training Loss')\n",
    "plt.plot(epochs_range, val_loss, label='Validation Loss')\n",
    "plt.legend(loc='upper right')\n",
    "plt.title('Training and Validation Loss')\n",
    "plt.show()"
   ]
  },
  {
   "cell_type": "code",
   "execution_count": 17,
   "metadata": {},
   "outputs": [
    {
     "name": "stderr",
     "output_type": "stream",
     "text": [
      "c:\\Users\\cetta sarwono\\AppData\\Local\\Programs\\Python\\Python39\\lib\\site-packages\\keras\\utils\\generic_utils.py:494: CustomMaskWarning: Custom mask layers require a config and must override get_config. When loading, the custom mask layer must be passed to the custom_objects argument.\n",
      "  warnings.warn('Custom mask layers require a config and must override '\n"
     ]
    }
   ],
   "source": [
    "# saving model\n",
    "model.save('signdecoderv2.h5')\n",
    "model.save_weights('signdecoder_weightsv2.h5')"
   ]
  }
 ],
 "metadata": {
  "interpreter": {
   "hash": "7def05aa80804aa2f03023ceebe6e666ae4abab076b1d5d3d14551d829cfea2a"
  },
  "kernelspec": {
   "display_name": "Python 3.9.7 64-bit",
   "language": "python",
   "name": "python3"
  },
  "language_info": {
   "codemirror_mode": {
    "name": "ipython",
    "version": 3
   },
   "file_extension": ".py",
   "mimetype": "text/x-python",
   "name": "python",
   "nbconvert_exporter": "python",
   "pygments_lexer": "ipython3",
   "version": "3.9.7"
  },
  "orig_nbformat": 4
 },
 "nbformat": 4,
 "nbformat_minor": 2
}
